{
 "cells": [
  {
   "cell_type": "markdown",
   "id": "5d7d673c",
   "metadata": {},
   "source": [
    "# Student Grade System"
   ]
  },
  {
   "cell_type": "code",
   "execution_count": 6,
   "id": "cdfd9353",
   "metadata": {},
   "outputs": [],
   "source": [
    "import pandas as pd\n",
    "import numpy as np"
   ]
  },
  {
   "cell_type": "code",
   "execution_count": 7,
   "id": "98f7285e",
   "metadata": {},
   "outputs": [],
   "source": [
    "Lesson='Math'\n",
    "\n",
    "def studentsave(Name,Surname,Lesson,Exam1,Exam2,Final,Letter_grade,Situation):\n",
    "    save = []\n",
    "    save.append(Name)\n",
    "    save.append(Surname)\n",
    "    save.append(Lesson)\n",
    "    save.append(Exam1)\n",
    "    save.append(Exam2)\n",
    "    save.append(Final)\n",
    "    save.append(Letter_grade)\n",
    "    save.append(Situation)\n",
    "    \n",
    "    return save"
   ]
  },
  {
   "cell_type": "code",
   "execution_count": 8,
   "id": "211462f2",
   "metadata": {},
   "outputs": [],
   "source": [
    "def data(): \n",
    "    Name= input('Enter your Name: ')\n",
    "    Surname=input('Enter your Surname: ')\n",
    "    Exam1=int(input('Enter your Exam1: '))\n",
    "    Exam2=int(input('Enter your Exam2: ')) \n",
    "    Final= int(input('Enter your Final note: '))\n",
    "    result= (Exam1*0.30)+(Exam2*0.30)+(Final*0.40)\n",
    "    Letter_grade=''\n",
    "    Situation =''\n",
    "    \n",
    "    if (100 >= result >= 90):\n",
    "        Letter_grade= 'AA'\n",
    "        Situation= 'Pass'\n",
    "       \n",
    "    elif (89 >= result >= 80):\n",
    "        Letter_grade= 'BA'\n",
    "        Situation= 'Pass'\n",
    "        \n",
    "    elif (79 >= result >= 75):\n",
    "        Letter_grade= 'BB'\n",
    "        Situation= 'Pass'\n",
    "        \n",
    "    elif (74 >= result >= 70):\n",
    "        Letter_grade= 'CB'\n",
    "        Situation= 'Pass' \n",
    "    \n",
    "    elif (69 >= result >= 60):\n",
    "        Letter_grade= 'CC'\n",
    "        Situation= 'Pass'\n",
    "    \n",
    "    elif (59 >= result >= 50):\n",
    "        Letter_grade= 'DC'\n",
    "        Situation= 'Pass'\n",
    "        \n",
    "    elif (49 >= result >= 40):\n",
    "        Letter_grade= 'DD'\n",
    "        Situation= 'Pass'\n",
    "     \n",
    "    elif (39 >= result >= 50):\n",
    "        Letter_grade= 'FD'\n",
    "        Situation= 'Fail'\n",
    "     \n",
    "    else:\n",
    "        Letter_grade= 'FF'\n",
    "        Situation='Fail'\n",
    "        \n",
    "    return Name,Surname,Lesson,Exam1,Exam2,Final,Letter_grade,Situation"
   ]
  },
  {
   "cell_type": "code",
   "execution_count": 10,
   "id": "46ea058f",
   "metadata": {},
   "outputs": [
    {
     "name": "stdout",
     "output_type": "stream",
     "text": [
      "Please press 'Y/y' to enter record, 'N/n' to exit or clean data c/C: y\n",
      "Enter your Name: Selin\n",
      "Enter your Surname: Gündüz\n",
      "Enter your Exam1: 45\n",
      "Enter your Exam2: 85\n",
      "Enter your Final note: 96\n",
      "Please press 'Y/y' to enter record, 'N/n' to exit or clean data c/C: Y\n",
      "Enter your Name: Emir\n",
      "Enter your Surname: Yürek\n",
      "Enter your Exam1: 26\n",
      "Enter your Exam2: 56\n",
      "Enter your Final note: 36\n",
      "Please press 'Y/y' to enter record, 'N/n' to exit or clean data c/C: N\n"
     ]
    },
    {
     "data": {
      "text/html": [
       "<div>\n",
       "<style scoped>\n",
       "    .dataframe tbody tr th:only-of-type {\n",
       "        vertical-align: middle;\n",
       "    }\n",
       "\n",
       "    .dataframe tbody tr th {\n",
       "        vertical-align: top;\n",
       "    }\n",
       "\n",
       "    .dataframe thead th {\n",
       "        text-align: right;\n",
       "    }\n",
       "</style>\n",
       "<table border=\"1\" class=\"dataframe\">\n",
       "  <thead>\n",
       "    <tr style=\"text-align: right;\">\n",
       "      <th></th>\n",
       "      <th>Name</th>\n",
       "      <th>Surname</th>\n",
       "      <th>Lesson</th>\n",
       "      <th>Exam1</th>\n",
       "      <th>Exam2</th>\n",
       "      <th>Final</th>\n",
       "      <th>Letter_grade</th>\n",
       "      <th>Situation</th>\n",
       "    </tr>\n",
       "  </thead>\n",
       "  <tbody>\n",
       "    <tr>\n",
       "      <th>0</th>\n",
       "      <td>Selin</td>\n",
       "      <td>Gündüz</td>\n",
       "      <td>Math</td>\n",
       "      <td>45</td>\n",
       "      <td>85</td>\n",
       "      <td>96</td>\n",
       "      <td>BB</td>\n",
       "      <td>Pass</td>\n",
       "    </tr>\n",
       "    <tr>\n",
       "      <th>1</th>\n",
       "      <td>Emir</td>\n",
       "      <td>Yürek</td>\n",
       "      <td>Math</td>\n",
       "      <td>26</td>\n",
       "      <td>56</td>\n",
       "      <td>36</td>\n",
       "      <td>FF</td>\n",
       "      <td>Fail</td>\n",
       "    </tr>\n",
       "  </tbody>\n",
       "</table>\n",
       "</div>"
      ],
      "text/plain": [
       "    Name Surname Lesson  Exam1  Exam2  Final Letter_grade Situation\n",
       "0  Selin  Gündüz   Math     45     85     96           BB      Pass\n",
       "1   Emir   Yürek   Math     26     56     36           FF      Fail"
      ]
     },
     "execution_count": 10,
     "metadata": {},
     "output_type": "execute_result"
    }
   ],
   "source": [
    "datas=[]\n",
    "\n",
    "while True:\n",
    "    registration=input(\"Please press 'Y/y' to enter record, 'N/n' to exit or clean data c/C: \")\n",
    "    if registration==\"Y\" or registration==\"y\":\n",
    "        try:\n",
    "            a,b,c,d,e,f,g,h=data()\n",
    "            datas.append(studentsave(a,b,c,d,e,f,g,h))  \n",
    "            df=pd.DataFrame(datas, columns=[\"Name\",\"Surname\",\"Lesson\",\"Exam1\",\"Exam2\",\"Final\",\"Letter_grade\",\"Situation\"])\n",
    "            \n",
    "        except:\n",
    "            print(\"Enter correct type\")  \n",
    "            data = {}\n",
    "            \n",
    "    elif registration==\"C\" or registration==\"c\":\n",
    "        df = df.drop(range(len(df)))\n",
    "        print('Data deleting...')\n",
    "            \n",
    "    elif registration==\"N\" or registration==\"n\":\n",
    "        break\n",
    "df.to_excel(\"output.xlsx\")\n",
    "df"
   ]
  },
  {
   "cell_type": "code",
   "execution_count": null,
   "id": "6c9dacb6",
   "metadata": {},
   "outputs": [],
   "source": [
    "df.to_excel(\"output.xlsx\")"
   ]
  }
 ],
 "metadata": {
  "kernelspec": {
   "display_name": "Python 3 (ipykernel)",
   "language": "python",
   "name": "python3"
  },
  "language_info": {
   "codemirror_mode": {
    "name": "ipython",
    "version": 3
   },
   "file_extension": ".py",
   "mimetype": "text/x-python",
   "name": "python",
   "nbconvert_exporter": "python",
   "pygments_lexer": "ipython3",
   "version": "3.9.12"
  }
 },
 "nbformat": 4,
 "nbformat_minor": 5
}
